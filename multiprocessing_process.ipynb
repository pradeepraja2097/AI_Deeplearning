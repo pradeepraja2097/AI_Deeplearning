{
 "cells": [
  {
   "cell_type": "code",
   "execution_count": 3,
   "metadata": {},
   "outputs": [
    {
     "name": "stdout",
     "output_type": "stream",
     "text": [
      "Square: 100\n",
      "Cube: 1000\n",
      "Done!\n"
     ]
    }
   ],
   "source": [
    "# Python program to illustrate the concept\n",
    "# of threading\n",
    "# importing the threading module\n",
    "import threading\n",
    "\n",
    "\n",
    "def print_cube(num):\n",
    "\t# function to print cube of given num\n",
    "\tprint(\"Cube: {}\" .format(num * num * num))\n",
    "\n",
    "\n",
    "def print_square(num):\n",
    "\t# function to print square of given num\n",
    "\tprint(\"Square: {}\" .format(num * num))\n",
    "\n",
    "\n",
    "if __name__ ==\"__main__\":\n",
    "\t# creating thread\n",
    "\tt1 = threading.Thread(target=print_square, args=(10,))\n",
    "\tt2 = threading.Thread(target=print_cube, args=(10,))\n",
    "\n",
    "\t# starting thread 1\n",
    "\tt1.start()\n",
    "\t# starting thread 2\n",
    "\tt2.start()\n",
    "\n",
    "\t# wait until thread 1 is completely executed\n",
    "\tt2.join()\n",
    "\t# wait until thread 2 is completely executed\n",
    "\tt1.join()\n",
    "\n",
    "\t# both threads completely executed\n",
    "\tprint(\"Done!\")\n"
   ]
  },
  {
   "cell_type": "code",
   "execution_count": 14,
   "metadata": {},
   "outputs": [],
   "source": [
    "import cv2\n",
    "a=cv2.imread(\"/home/pradeep/Downloads/phone_inp_2828/phone_inp/video_frames_for_surendra/overlay_white_and_defect.jpg\")\n",
    "counter= 150\n",
    "for i in range(30):\n",
    "    cv2.imwrite(f'/home/pradeep/Downloads/frames (1)/frames/Striching_video/{counter:03}.jpg',a)\n",
    "    counter=counter+1"
   ]
  },
  {
   "cell_type": "code",
   "execution_count": 1,
   "metadata": {},
   "outputs": [
    {
     "name": "stdout",
     "output_type": "stream",
     "text": [
      "000\n",
      "001\n",
      "002\n",
      "003\n",
      "004\n",
      "005\n",
      "006\n",
      "007\n",
      "008\n",
      "009\n"
     ]
    }
   ],
   "source": [
    "for i in range(10):\n",
    "    print(f'{i:03}')"
   ]
  },
  {
   "cell_type": "code",
   "execution_count": 2,
   "metadata": {},
   "outputs": [
    {
     "name": "stdout",
     "output_type": "stream",
     "text": [
      "025\n",
      "026\n",
      "027\n",
      "028\n",
      "029\n",
      "030\n",
      "031\n",
      "032\n",
      "033\n",
      "034\n"
     ]
    }
   ],
   "source": [
    "count=25\n",
    "for i in range(10):\n",
    "    print(f'{count:03}')\n",
    "    count=count + 1"
   ]
  },
  {
   "cell_type": "code",
   "execution_count": 13,
   "metadata": {},
   "outputs": [],
   "source": [
    "import cv2\n",
    "a=cv2.imread(\"/home/pradeep/Downloads/phone_inp_2828/phone_inp/IMG_20220907_162828.jpg\")\n",
    "b=cv2.imread(\"/home/pradeep/Downloads/phone_inp_2828/phone_inp/output_red_only_defect.jpg\")\n",
    "overlay=cv2.addWeighted(a,0.4,b,0.6,0)\n",
    "resize=cv2.resize(overlay,(1600,800))\n",
    "cv2.imwrite(\"/home/pradeep/Downloads/phone_inp_2828/phone_inp/video_frames_for_surendra/overlay_white_and_defect.jpg\",overlay)\n",
    "cv2.imshow(\"test\",resize)\n",
    "cv2.waitKey(0)\n",
    "cv2.destroyAllWindows()"
   ]
  },
  {
   "cell_type": "code",
   "execution_count": 16,
   "metadata": {},
   "outputs": [],
   "source": [
    "import cv2\n",
    "import numpy as np\n",
    "import glob\n",
    "\n",
    "frameSize = (4000, 3000)\n",
    "\n",
    "out = cv2.VideoWriter('/home/pradeep/Downloads/frames_(1)/frames/output_video_processing.avi',cv2.VideoWriter_fourcc(*'DIVX'), 12, frameSize)\n",
    "\n",
    "for filename in glob.glob('/home/pradeep/Downloads/frames_(1)/frames/Striching_video/*.jpg'):\n",
    "    img = cv2.imread(filename)\n",
    "    out.write(img)\n",
    "\n",
    "out.release()"
   ]
  },
  {
   "cell_type": "code",
   "execution_count": 18,
   "metadata": {},
   "outputs": [],
   "source": [
    "from threading import *\n"
   ]
  },
  {
   "cell_type": "code",
   "execution_count": 23,
   "metadata": {},
   "outputs": [
    {
     "name": "stdout",
     "output_type": "stream",
     "text": [
      "child Executing\n",
      "child Executing\n",
      "child Executing\n",
      "child Executing\n",
      "child Executing\n",
      "child Executing\n",
      "bye\n"
     ]
    }
   ],
   "source": [
    "def new():\n",
    "    for x in range(6):\n",
    "        print(\"child Executing\")\n",
    "\n",
    "t1=Thread(target=new)\n",
    "t1.start()\n",
    "# t1.join()\n",
    "print(\"bye\")"
   ]
  },
  {
   "cell_type": "code",
   "execution_count": 35,
   "metadata": {},
   "outputs": [
    {
     "name": "stdout",
     "output_type": "stream",
     "text": [
      "0\n",
      "1\n",
      "0\n",
      "1\n",
      "0\n",
      "1\n",
      "0\n",
      "1\n",
      "2\n",
      "0\n",
      "1\n",
      "2\n",
      "8.320808410644531e-05\n"
     ]
    }
   ],
   "source": [
    "import time\n",
    "def a(num):\n",
    "    for x in range(6):\n",
    "        print(x%2)\n",
    "\n",
    "    for x in range(6):\n",
    "        print(x%2)\n",
    "\n",
    "def b(num):\n",
    "    for x in range(6):\n",
    "        print(x%3)\n",
    "\n",
    "num=[6,9,3,1,2]\n",
    "s=time.time()\n",
    "a(num)\n",
    "b(num)\n",
    "e=time.time()\n",
    "\n",
    "print(e-s)\n",
    "\n",
    "\n"
   ]
  },
  {
   "cell_type": "code",
   "execution_count": 32,
   "metadata": {},
   "outputs": [
    {
     "data": {
      "text/plain": [
       "0.0016107559204101562"
      ]
     },
     "execution_count": 32,
     "metadata": {},
     "output_type": "execute_result"
    }
   ],
   "source": [
    "0.0006525516510009766\n",
    "0.0016107559204101562"
   ]
  },
  {
   "cell_type": "code",
   "execution_count": 1,
   "metadata": {},
   "outputs": [
    {
     "name": "stdout",
     "output_type": "stream",
     "text": [
      "start process:1start process:2start process:3start process:0start process:4\n",
      "\n",
      "\n",
      "\n",
      "\n",
      "square 1:1square 3:9square 4:16square 2:4square 0:0\n",
      "\n",
      "\n",
      "\n",
      "\n",
      "end process:3end process:2end process:1end process:0\n",
      "\n",
      "\n",
      "end process:4\n",
      "\n",
      "Time taken 1.037123203277588 seconds\n"
     ]
    }
   ],
   "source": [
    "import time\n",
    "from multiprocessing import Pool\n",
    "\n",
    "\n",
    "def square(x):\n",
    "    print(f\"start process:{x}\")\n",
    "    square = x * x\n",
    "    print(f\"square {x}:{square}\")\n",
    "    time.sleep(1)\n",
    "    print(f\"end process:{x}\")\n",
    "\n",
    "\n",
    "if __name__ == \"__main__\":\n",
    "    starttime = time.time()\n",
    "    pool = Pool()\n",
    "    pool.map(square, range(0, 5))\n",
    "    pool.close()\n",
    "    endtime = time.time()\n",
    "    print(f\"Time taken {endtime-starttime} seconds\")"
   ]
  },
  {
   "cell_type": "code",
   "execution_count": 2,
   "metadata": {},
   "outputs": [
    {
     "name": "stdout",
     "output_type": "stream",
     "text": [
      "[15, 12, 21, 6]\n"
     ]
    }
   ],
   "source": [
    "import multiprocessing\n",
    "\n",
    "import numpy as np\n",
    "\n",
    "\n",
    "data_pairs = [ [3,5], [4,3], [7,3], [1,6] ]\n",
    "\n",
    "\n",
    "def myfunc(p):\n",
    "\n",
    "    product_of_list = np.prod(p)\n",
    "\n",
    "    return product_of_list\n",
    "\n",
    "\n",
    "if __name__ == '__main__':\n",
    "\n",
    "    pool = multiprocessing.Pool(processes=4)\n",
    "\n",
    "    result_list = pool.map(myfunc, data_pairs)\n",
    "\n",
    "    print(result_list)"
   ]
  },
  {
   "cell_type": "code",
   "execution_count": 5,
   "metadata": {},
   "outputs": [],
   "source": [
    "import cv2\n",
    "import os\n",
    "import glob\n",
    "\n",
    "filename=glob.glob(\"/home/pradeep/Downloads/frames_(1)/frames/Striching_video/*.jpg\")\n",
    "for i in filename:\n",
    "    a=i.split(\"/\")[-1]\n",
    "    print(a)\n",
    "    b=cv2.imread(i)\n",
    "    cv2.imwrite(f'/home/pradeep/Downloads/frames_(1)/frames/Striching_video/test_sample/{a}.jpg',b)"
   ]
  },
  {
   "cell_type": "code",
   "execution_count": 12,
   "metadata": {},
   "outputs": [
    {
     "name": "stdout",
     "output_type": "stream",
     "text": [
      "[0, 1, 4, 9, 16]\n",
      "Time taken 39.57829570770264 seconds\n"
     ]
    }
   ],
   "source": [
    "import cv2\n",
    "import glob\n",
    "import time\n",
    "\n",
    "def main(img,a):\n",
    "    b=cv2.imread(img)\n",
    "    cv2.imwrite(f'/home/pradeep/Downloads/frames_(1)/frames/Striching_video/test_sample/{a}.jpg',b)\n",
    "\n",
    "    \n",
    "\n",
    "if __name__ == '__main__':\n",
    "    starttime = time.time()\n",
    "    filename=glob.glob(\"/home/pradeep/Downloads/frames_(1)/frames/Striching_video/*.jpg\")\n",
    "    for i in filename:\n",
    "        a=i.split(\"/\")[-1]\n",
    "        main(i,a)\n",
    "    endtime = time.time()\n",
    "    print(f\"Time taken {endtime-starttime} seconds\")\n",
    "\n",
    "\n"
   ]
  },
  {
   "cell_type": "code",
   "execution_count": 14,
   "metadata": {},
   "outputs": [
    {
     "name": "stdout",
     "output_type": "stream",
     "text": [
      "049116\n",
      "\n",
      "\n",
      "Time taken 10.14504075050354 seconds\n",
      "\n",
      "\n"
     ]
    }
   ],
   "source": [
    "import multiprocessing\n",
    "import cv2\n",
    "import glob\n",
    "import time\n",
    "\n",
    "def main(img,a):\n",
    "    b=cv2.imread(img)\n",
    "    cv2.imwrite(f'/home/pradeep/Downloads/frames_(1)/frames/Striching_video/test_sample/testsample/{a}.jpg',b)\n",
    "\n",
    "    # print(\"hello\")\n",
    "\n",
    "\n",
    "if __name__ == '__main__':\n",
    "    starttime = time.time()\n",
    "    pool = multiprocessing.Pool(processes=6)\n",
    "    list1=[]\n",
    "    \n",
    "    filename=glob.glob(\"/home/pradeep/Downloads/frames_(1)/frames/Striching_video/*.jpg\")\n",
    "    for i in filename:\n",
    "        a=i.split(\"/\")[-1]\n",
    "        \n",
    "        list1.append([i,a])\n",
    "        \n",
    "    \n",
    "    #pool.apply_async(main,args=list1)\n",
    "    pool.starmap(main,list1)\n",
    "    endtime = time.time()\n",
    "    print(f\"Time taken {endtime-starttime} seconds\")\n",
    "\n",
    "\n"
   ]
  },
  {
   "cell_type": "code",
   "execution_count": 5,
   "metadata": {},
   "outputs": [
    {
     "name": "stdout",
     "output_type": "stream",
     "text": [
      "7\n"
     ]
    }
   ],
   "source": [
    "def add(a,b):\n",
    "    return a+b\n",
    "\n",
    "res=add(5,2)\n",
    "\n",
    "print(res)"
   ]
  },
  {
   "cell_type": "code",
   "execution_count": 21,
   "metadata": {},
   "outputs": [
    {
     "name": "stdout",
     "output_type": "stream",
     "text": [
      "1\n",
      "5\n"
     ]
    }
   ],
   "source": [
    "class a:\n",
    "    def __init__(self) -> None:\n",
    "        pass\n",
    "\n",
    "    def add(a,b):\n",
    "        c=a+b\n",
    "        return c\n",
    "class b(a):\n",
    "    def __init__(self) -> None:\n",
    "        super().__init__()\n",
    "    def sub(a,b):\n",
    "        return a-b\n",
    "if __name__ == '__main__':\n",
    "    \n",
    "    test1=b.sub(3,2)\n",
    "    test=b.add(2,3)\n",
    "    print(test1)\n",
    "    print(test)\n"
   ]
  },
  {
   "cell_type": "code",
   "execution_count": 8,
   "metadata": {},
   "outputs": [
    {
     "name": "stdout",
     "output_type": "stream",
     "text": [
      "Square: 100\n"
     ]
    },
    {
     "ename": "TypeError",
     "evalue": "'int' object is not iterable",
     "output_type": "error",
     "traceback": [
      "\u001b[0;31m---------------------------------------------------------------------------\u001b[0m",
      "\u001b[0;31mTypeError\u001b[0m                                 Traceback (most recent call last)",
      "Cell \u001b[0;32mIn [8], line 30\u001b[0m\n\u001b[1;32m     28\u001b[0m \u001b[38;5;66;03m# starting thread 1\u001b[39;00m\n\u001b[1;32m     29\u001b[0m t1\u001b[38;5;241m.\u001b[39mstart()\n\u001b[0;32m---> 30\u001b[0m \u001b[43mpool\u001b[49m\u001b[38;5;241;43m.\u001b[39;49m\u001b[43mmap\u001b[49m\u001b[43m(\u001b[49m\u001b[43mprint_square\u001b[49m\u001b[43m,\u001b[49m\u001b[43miterable\u001b[49m\u001b[38;5;241;43m=\u001b[39;49m\u001b[38;5;241;43m1\u001b[39;49m\u001b[43m)\u001b[49m\n\u001b[1;32m     31\u001b[0m \u001b[38;5;66;03m# starting thread 2\u001b[39;00m\n\u001b[1;32m     32\u001b[0m t2\u001b[38;5;241m.\u001b[39mstart()\n",
      "File \u001b[0;32m/usr/lib/python3.8/multiprocessing/pool.py:364\u001b[0m, in \u001b[0;36mPool.map\u001b[0;34m(self, func, iterable, chunksize)\u001b[0m\n\u001b[1;32m    359\u001b[0m \u001b[39mdef\u001b[39;00m \u001b[39mmap\u001b[39m(\u001b[39mself\u001b[39m, func, iterable, chunksize\u001b[39m=\u001b[39m\u001b[39mNone\u001b[39;00m):\n\u001b[1;32m    360\u001b[0m     \u001b[39m'''\u001b[39;00m\n\u001b[1;32m    361\u001b[0m \u001b[39m    Apply `func` to each element in `iterable`, collecting the results\u001b[39;00m\n\u001b[1;32m    362\u001b[0m \u001b[39m    in a list that is returned.\u001b[39;00m\n\u001b[1;32m    363\u001b[0m \u001b[39m    '''\u001b[39;00m\n\u001b[0;32m--> 364\u001b[0m     \u001b[39mreturn\u001b[39;00m \u001b[39mself\u001b[39;49m\u001b[39m.\u001b[39;49m_map_async(func, iterable, mapstar, chunksize)\u001b[39m.\u001b[39mget()\n",
      "File \u001b[0;32m/usr/lib/python3.8/multiprocessing/pool.py:475\u001b[0m, in \u001b[0;36mPool._map_async\u001b[0;34m(self, func, iterable, mapper, chunksize, callback, error_callback)\u001b[0m\n\u001b[1;32m    473\u001b[0m \u001b[39mself\u001b[39m\u001b[39m.\u001b[39m_check_running()\n\u001b[1;32m    474\u001b[0m \u001b[39mif\u001b[39;00m \u001b[39mnot\u001b[39;00m \u001b[39mhasattr\u001b[39m(iterable, \u001b[39m'\u001b[39m\u001b[39m__len__\u001b[39m\u001b[39m'\u001b[39m):\n\u001b[0;32m--> 475\u001b[0m     iterable \u001b[39m=\u001b[39m \u001b[39mlist\u001b[39;49m(iterable)\n\u001b[1;32m    477\u001b[0m \u001b[39mif\u001b[39;00m chunksize \u001b[39mis\u001b[39;00m \u001b[39mNone\u001b[39;00m:\n\u001b[1;32m    478\u001b[0m     chunksize, extra \u001b[39m=\u001b[39m \u001b[39mdivmod\u001b[39m(\u001b[39mlen\u001b[39m(iterable), \u001b[39mlen\u001b[39m(\u001b[39mself\u001b[39m\u001b[39m.\u001b[39m_pool) \u001b[39m*\u001b[39m \u001b[39m4\u001b[39m)\n",
      "\u001b[0;31mTypeError\u001b[0m: 'int' object is not iterable"
     ]
    }
   ],
   "source": [
    "# Python program to illustrate the concept\n",
    "# of threading\n",
    "# importing the threading module\n",
    "import threading\n",
    "import time\n",
    "import multiprocessing\n",
    "\n",
    "\n",
    "def print_cube(num):\n",
    "\t# function to print cube of given num\n",
    "\tprint(\"Cube: {}\" .format(num * num * num))\n",
    "\n",
    "\n",
    "def print_square(num):\n",
    "\t# function to print square of given num\n",
    "\tprint(\"Square: {}\" .format(num * num))\n",
    "\n",
    "\n",
    "if __name__ ==\"__main__\":\n",
    "\tstarttime=time.time()\n",
    "\n",
    "\t# creating thread\n",
    "\tt1 = threading.Thread(target=print_square, args=(10,))\n",
    "\tt2 = threading.Thread(target=print_cube, args=(10,))\n",
    "\n",
    "\tpool = multiprocessing.Pool(processes=6)\n",
    "\n",
    "\t# starting thread 1\n",
    "\tt1.start()\n",
    "\tpool.map(print_square,iterable=1)\n",
    "\t# starting thread 2\n",
    "\tt2.start()\n",
    "\tpool.map(print_cube,iterable=1)\n",
    "\n",
    "\t# wait until thread 1 is completely executed\n",
    "\tt1.join()\n",
    "\t# wait until thread 2 is completely executed\n",
    "\tt2.join()\n",
    "\n",
    "\t# both threads completely executed\n",
    "\tprint(\"Done!\")\n",
    "\tendtime=time.time()\n",
    "\tprint(endtime-starttime)\n"
   ]
  },
  {
   "cell_type": "code",
   "execution_count": 2,
   "metadata": {},
   "outputs": [
    {
     "name": "stdout",
     "output_type": "stream",
     "text": [
      "True\n",
      "[[[ 95  95  95]\n",
      "  [ 95  95  95]\n",
      "  [ 95  95  95]\n",
      "  ...\n",
      "  [146 144 144]\n",
      "  [144 144 144]\n",
      "  [144 144 144]]\n",
      "\n",
      " [[ 95  95  95]\n",
      "  [ 95  95  95]\n",
      "  [ 95  95  95]\n",
      "  ...\n",
      "  [146 144 144]\n",
      "  [146 144 144]\n",
      "  [146 144 144]]\n",
      "\n",
      " [[ 95  95  95]\n",
      "  [ 95  95  95]\n",
      "  [ 97  97  97]\n",
      "  ...\n",
      "  [146 144 144]\n",
      "  [144 144 144]\n",
      "  [144 144 144]]\n",
      "\n",
      " ...\n",
      "\n",
      " [[ 39  61  84]\n",
      "  [ 39  61  84]\n",
      "  [ 39  59  79]\n",
      "  ...\n",
      "  [255 255 255]\n",
      "  [255 255 255]\n",
      "  [255 255 255]]\n",
      "\n",
      " [[ 39  61  84]\n",
      "  [ 39  61  84]\n",
      "  [ 39  59  76]\n",
      "  ...\n",
      "  [255 255 255]\n",
      "  [255 255 255]\n",
      "  [255 255 255]]\n",
      "\n",
      " [[ 33  56  77]\n",
      "  [ 34  57  78]\n",
      "  [ 23  40  57]\n",
      "  ...\n",
      "  [255 255 255]\n",
      "  [255 255 255]\n",
      "  [255 255 255]]]\n",
      "True\n",
      "[[[ 32  12 139]\n",
      "  [ 32  12 139]\n",
      "  [ 32  12 139]\n",
      "  ...\n",
      "  [176 172 150]\n",
      "  [177 173 151]\n",
      "  [177 173 151]]\n",
      "\n",
      " [[ 32  12 139]\n",
      "  [ 32  12 139]\n",
      "  [ 32  12 139]\n",
      "  ...\n",
      "  [163 159 137]\n",
      "  [164 160 138]\n",
      "  [164 160 138]]\n",
      "\n",
      " [[ 31  11 138]\n",
      "  [ 31  11 138]\n",
      "  [ 31  11 138]\n",
      "  ...\n",
      "  [149 145 123]\n",
      "  [150 146 124]\n",
      "  [150 146 124]]\n",
      "\n",
      " ...\n",
      "\n",
      " [[ 60  93 138]\n",
      "  [ 60  93 138]\n",
      "  [ 60  93 138]\n",
      "  ...\n",
      "  [103 105 121]\n",
      "  [104 106 122]\n",
      "  [104 106 122]]\n",
      "\n",
      " [[ 61  94 139]\n",
      "  [ 61  94 139]\n",
      "  [ 61  94 139]\n",
      "  ...\n",
      "  [103 105 121]\n",
      "  [104 106 122]\n",
      "  [104 106 122]]\n",
      "\n",
      " [[ 61  94 139]\n",
      "  [ 61  94 139]\n",
      "  [ 61  94 139]\n",
      "  ...\n",
      "  [102 104 120]\n",
      "  [103 105 121]\n",
      "  [104 106 122]]]\n"
     ]
    }
   ],
   "source": [
    "import cv2 \n",
    "import threading\n",
    "def stream(a):\n",
    "    key = cv2. waitKey(1)\n",
    "    webcam = cv2.VideoCapture(a)\n",
    "    while True:\n",
    "        try:\n",
    "            check, frame = webcam.read()\n",
    "            print(check) #prints true as long as the webcam is running\n",
    "            print(frame) #prints matrix values of each framecd \n",
    "            cv2.imshow(\"Capturing\", frame)\n",
    "            key = cv2.waitKey(1)\n",
    "            if key == ord('s'): \n",
    "                cv2.imwrite(filename='saved_img.jpg', img=frame)\n",
    "                webcam.release()\n",
    "                img_ = cv2.imread('saved_img.jpg', cv2.IMREAD_ANYCOLOR)\n",
    "                \n",
    "                print(\"Resizing image to 28x28 scale...\")\n",
    "                img_ = cv2.resize(img_,(28,28))\n",
    "                print(\"Resized...\")\n",
    "                img_resized = cv2.imwrite(filename='saved_img-final.jpg', img=img_)\n",
    "                print(\"Image saved!\")\n",
    "            \n",
    "                break\n",
    "            elif key == ord('q'):\n",
    "                print(\"Turning off camera.\")\n",
    "                webcam.release()\n",
    "                print(\"Camera off.\")\n",
    "                print(\"Program ended.\")\n",
    "                cv2.destroyAllWindows()\n",
    "                break\n",
    "            \n",
    "        except(KeyboardInterrupt):\n",
    "            print(\"Turning off camera.\")\n",
    "            webcam.release()\n",
    "            print(\"Camera off.\")\n",
    "            print(\"Program ended.\")\n",
    "            cv2.destroyAllWindows()\n",
    "            break\n",
    "\n",
    "def stream1(a):\n",
    "    key = cv2. waitKey(1)\n",
    "    webcam = cv2.VideoCapture(a)\n",
    "    while True:\n",
    "        try:\n",
    "            check, frame = webcam.read()\n",
    "            print(check) #prints true as long as the webcam is running\n",
    "            print(frame) #prints matrix values of each framecd \n",
    "            cv2.imshow(\"Capturing1\", frame)\n",
    "            key = cv2.waitKey(1)\n",
    "            if key == ord('s'): \n",
    "                cv2.imwrite(filename='saved_img.jpg', img=frame)\n",
    "                webcam.release()\n",
    "                img_ = cv2.imread('saved_img.jpg', cv2.IMREAD_ANYCOLOR)\n",
    "                \n",
    "                print(\"Resizing image to 28x28 scale...\")\n",
    "                img_ = cv2.resize(img_,(28,28))\n",
    "                print(\"Resized...\")\n",
    "                img_resized = cv2.imwrite(filename='saved_img-final.jpg', img=img_)\n",
    "                print(\"Image saved!\")\n",
    "            \n",
    "                break\n",
    "            elif key == ord('q'):\n",
    "                print(\"Turning off camera.\")\n",
    "                webcam.release()\n",
    "                print(\"Camera off.\")\n",
    "                print(\"Program ended.\")\n",
    "                cv2.destroyAllWindows()\n",
    "                break\n",
    "            \n",
    "        except(KeyboardInterrupt):\n",
    "            print(\"Turning off camera.\")\n",
    "            webcam.release()\n",
    "            print(\"Camera off.\")\n",
    "            print(\"Program ended.\")\n",
    "            cv2.destroyAllWindows()\n",
    "            break\n",
    "\n",
    "#obj=stream(\"rtsp://192.168.1.96:5540/ch0\")\n",
    "\n",
    "if __name__ ==\"__main__\":\n",
    "    # creating thread\n",
    "    t1 = threading.Thread(target=stream, args=(\"rtsp://192.168.1.96:5540/ch0\",))\n",
    "    t2 = threading.Thread(target=stream1, args=(0,))\n",
    " \n",
    "    # starting thread 1\n",
    "    t1.start()\n",
    "    # starting thread 2\n",
    "    t2.start()\n",
    " "
   ]
  },
  {
   "cell_type": "code",
   "execution_count": 1,
   "metadata": {},
   "outputs": [
    {
     "name": "stdout",
     "output_type": "stream",
     "text": [
      "Start threadID0Start threadID1\n",
      "\n"
     ]
    },
    {
     "ename": "",
     "evalue": "",
     "output_type": "error",
     "traceback": [
      "\u001b[1;31mThe Kernel crashed while executing code in the the current cell or a previous cell. Please review the code in the cell(s) to identify a possible cause of the failure. Click <a href='https://aka.ms/vscodeJupyterKernelCrash'>here</a> for more info. View Jupyter <a href='command:jupyter.viewOutput'>log</a> for further details."
     ]
    }
   ],
   "source": [
    "\n",
    "\n",
    "import threading\n",
    "import cv2\n",
    "\n",
    "class Thread (threading.Thread):\n",
    "    def __init__(self, threadID,ip):\n",
    "        threading.Thread.__init__(self)\n",
    "        self.threadID = threadID\n",
    "        self.ip = ip\n",
    "\n",
    "    def run(self):\n",
    "        print(\"Start threadID\" +str(self.threadID))\n",
    "        Core.detection(self.ip)\n",
    "        print(\"Exiting \" + str(self.threadID))\n",
    "class Core:\n",
    "    @staticmethod\n",
    "    def detection(ip):\n",
    "        capture = cv2.VideoCapture(ip)\n",
    "        capture.set(cv2.CAP_PROP_BUFFERSIZE, 0)\n",
    "        while (capture.isOpened()):\n",
    "\n",
    "            ret, frame = capture.read()\n",
    "            if ret:\n",
    "                frame = cv2.resize(frame,(600,400))\n",
    "                cv2.imshow(ip,frame)\n",
    "                #cv2.waitKey(1)\n",
    "                if cv2.waitKey(1) & 0xFF == ord('q'):\n",
    "                    break\n",
    "            else:\n",
    "                print('attempting to reconnect', ip)\n",
    "                # threads = []\n",
    "                # for i, cam in enumerate(ip):\n",
    "                #     thread1 = Thread(i, cam)\n",
    "                #     threads.append(thread1)\n",
    "                # for i in threads:\n",
    "                #     i.start()\n",
    "                # thread1 = Thread(1, ip)\n",
    "                # thread1.start()\n",
    "                Core.detection(ip)\n",
    "        capture.release()\n",
    "        cv2.destroyAllWindows()\n",
    "if __name__=='__main__':\n",
    "    cam_list=[\n",
    "           \"rtsp://192.168.1.96:5540/ch0\",\"rtsp://192.168.1.110:5540/ch0\"\n",
    "            ]\n",
    "    threads = []\n",
    "    for i, cam in enumerate(cam_list):\n",
    "        thread1 = Thread(i, cam)\n",
    "        threads.append(thread1)\n",
    "    for i in threads:\n",
    "        i.start()\n",
    "\n"
   ]
  },
  {
   "cell_type": "code",
   "execution_count": 1,
   "metadata": {},
   "outputs": [
    {
     "ename": "",
     "evalue": "",
     "output_type": "error",
     "traceback": [
      "\u001b[1;31mCanceled future for execute_request message before replies were done"
     ]
    },
    {
     "ename": "",
     "evalue": "",
     "output_type": "error",
     "traceback": [
      "\u001b[1;31mThe Kernel crashed while executing code in the the current cell or a previous cell. Please review the code in the cell(s) to identify a possible cause of the failure. Click <a href='https://aka.ms/vscodeJupyterKernelCrash'>here</a> for more info. View Jupyter <a href='command:jupyter.viewOutput'>log</a> for further details."
     ]
    }
   ],
   "source": [
    "import concurrent.futures\n",
    "import cv2\n",
    "\n",
    "RTSP_List = [(\"rtsp://192.168.1.96:5540/ch0\",0), (\"rtsp://192.168.1.110:5540/ch0\",1)]\n",
    "\n",
    "\n",
    "def url_to_video(tup):\n",
    "    url,index = tup\n",
    "    video = cv2.VideoCapture(url)\n",
    "    while True:\n",
    "        _, frame = video.read()\n",
    "        cv2.imshow(f\"RTSP {index}\", frame)\n",
    "        cv2.moveWindow(f\"RTSP {index}\", index*300, 0)\n",
    "        k = cv2.waitKey(1)\n",
    "        if k == ord('q'):\n",
    "            break\n",
    "    video.release()\n",
    "\n",
    "\n",
    "while True:\n",
    "    with concurrent.futures.ThreadPoolExecutor() as executor:\n",
    "        executor.map(url_to_video, RTSP_List)\n",
    "    cv2.destroyAllWindows()"
   ]
  },
  {
   "cell_type": "code",
   "execution_count": 1,
   "metadata": {},
   "outputs": [
    {
     "name": "stdout",
     "output_type": "stream",
     "text": [
      " * Serving Flask app '__main__'\n",
      " * Debug mode: off\n"
     ]
    },
    {
     "name": "stderr",
     "output_type": "stream",
     "text": [
      "WARNING: This is a development server. Do not use it in a production deployment. Use a production WSGI server instead.\n",
      " * Running on all addresses (0.0.0.0)\n",
      " * Running on http://127.0.0.1:2204\n",
      " * Running on http://192.168.1.148:2204\n",
      "Press CTRL+C to quit\n",
      "192.168.1.148 - - [11/Nov/2022 12:32:40] \"GET / HTTP/1.1\" 200 -\n",
      "192.168.1.148 - - [11/Nov/2022 12:32:41] \"GET / HTTP/1.1\" 200 -\n",
      "192.168.1.148 - - [11/Nov/2022 12:32:41] \"GET / HTTP/1.1\" 200 -\n",
      "192.168.1.148 - - [11/Nov/2022 12:32:58] \"GET / HTTP/1.1\" 200 -\n"
     ]
    }
   ],
   "source": [
    "from flask import Flask, Response\n",
    "import cv2\n",
    "app = Flask(__name__)\n",
    "video = cv2.VideoCapture(\"rtsp://192.168.1.96:5540/ch0\")\n",
    "@app.route('/')\n",
    "def index():\n",
    "    return \"Default Message\"\n",
    "def gen(video):\n",
    "    while True:\n",
    "        success, image = video.read()\n",
    "        ret, jpeg = cv2.imencode('.jpg', image)\n",
    "        frame = jpeg.tobytes()\n",
    "        yield (b'--frame\\r\\n'\n",
    "               b'Content-Type: image/jpeg\\r\\n\\r\\n' + frame + b'\\r\\n\\r\\n')@app.route('/video_feed')\n",
    "def video_feed():\n",
    "    global video\n",
    "    return Response(gen(video),\n",
    "                    mimetype='multipart/x-mixed-replace; boundary=frame')\n",
    "if __name__ == '__main__':\n",
    "    app.run(host='0.0.0.0', port=2204, threaded=True)"
   ]
  },
  {
   "cell_type": "code",
   "execution_count": 26,
   "metadata": {},
   "outputs": [
    {
     "name": "stdout",
     "output_type": "stream",
     "text": [
      "hii\n"
     ]
    }
   ],
   "source": [
    "def func1():\n",
    "    print(\"hii\")\n",
    "    def func2():\n",
    "        print(\"hello\")\n",
    "\n",
    "func1()"
   ]
  },
  {
   "cell_type": "code",
   "execution_count": 28,
   "metadata": {},
   "outputs": [
    {
     "name": "stdout",
     "output_type": "stream",
     "text": [
      "string Hello\n",
      "hello\n"
     ]
    }
   ],
   "source": [
    "def func1(func):\n",
    "    a=\"string\"\n",
    "    \n",
    "    def func2():\n",
    "        print(\"string Hello\")\n",
    "        func()\n",
    "    return func2\n",
    "\n",
    "\n",
    "@func1\n",
    "def func3():\n",
    "    print(\"hello\")\n",
    "\n",
    "func3()"
   ]
  },
  {
   "cell_type": "code",
   "execution_count": 27,
   "metadata": {},
   "outputs": [
    {
     "name": "stdout",
     "output_type": "stream",
     "text": [
      "Function: daily_backup\n",
      "Run on: 2022-11-11 17:12:18\n",
      "------------------------------\n",
      "Daily backup job has finished.\n"
     ]
    }
   ],
   "source": [
    "from datetime import datetime\n",
    "\n",
    "\n",
    "def log_datetime(func):\n",
    "    '''Log the date and time of a function'''\n",
    "\n",
    "    def wrapper():\n",
    "        print(f'Function: {func.__name__}\\nRun on: {datetime.today().strftime(\"%Y-%m-%d %H:%M:%S\")}')\n",
    "        print(f'{\"-\"*30}')\n",
    "        func()\n",
    "    return wrapper\n",
    "\n",
    "\n",
    "@log_datetime\n",
    "def daily_backup():\n",
    "\n",
    "    print('Daily backup job has finished.')   \n",
    "\n",
    "     \n",
    "daily_backup()\n",
    "\n"
   ]
  },
  {
   "cell_type": "code",
   "execution_count": 5,
   "metadata": {},
   "outputs": [
    {
     "ename": "AttributeError",
     "evalue": "'function' object has no attribute 'a'",
     "output_type": "error",
     "traceback": [
      "\u001b[0;31m---------------------------------------------------------------------------\u001b[0m",
      "\u001b[0;31mAttributeError\u001b[0m                            Traceback (most recent call last)",
      "Cell \u001b[0;32mIn [5], line 12\u001b[0m\n\u001b[1;32m      9\u001b[0m     \u001b[38;5;28;01mdef\u001b[39;00m \u001b[38;5;21mHii\u001b[39m():\n\u001b[1;32m     10\u001b[0m         \u001b[38;5;28;01mreturn\u001b[39;00m \u001b[38;5;124m\"\u001b[39m\u001b[38;5;124mhii\u001b[39m\u001b[38;5;124m\"\u001b[39m\n\u001b[0;32m---> 12\u001b[0m obj\u001b[38;5;241m=\u001b[39m\u001b[43mA\u001b[49m\u001b[38;5;241;43m.\u001b[39;49m\u001b[43mhello\u001b[49m\u001b[38;5;241;43m.\u001b[39;49m\u001b[43ma\u001b[49m()\n\u001b[1;32m     13\u001b[0m \u001b[38;5;28mprint\u001b[39m(obj\u001b[38;5;241m.\u001b[39ma)\n",
      "\u001b[0;31mAttributeError\u001b[0m: 'function' object has no attribute 'a'"
     ]
    }
   ],
   "source": [
    "import cv2\n",
    "class A:\n",
    "    def hello():\n",
    "        a=\"string\"\n",
    "        return \"hello\"\n",
    "\n",
    "\n",
    "class B:\n",
    "    def Hii():\n",
    "        return \"hii\"\n",
    "\n",
    "obj=A.hello()\n",
    "print(obj.a)"
   ]
  },
  {
   "cell_type": "code",
   "execution_count": null,
   "metadata": {},
   "outputs": [],
   "source": []
  }
 ],
 "metadata": {
  "kernelspec": {
   "display_name": "Python 3.8.14 64-bit",
   "language": "python",
   "name": "python3"
  },
  "language_info": {
   "codemirror_mode": {
    "name": "ipython",
    "version": 3
   },
   "file_extension": ".py",
   "mimetype": "text/x-python",
   "name": "python",
   "nbconvert_exporter": "python",
   "pygments_lexer": "ipython3",
   "version": "3.8.15"
  },
  "orig_nbformat": 4,
  "vscode": {
   "interpreter": {
    "hash": "5b3ded1ccb95c1d9bd405e7b823d9e85424cde40fbb5985eb47e999ef50e15b4"
   }
  }
 },
 "nbformat": 4,
 "nbformat_minor": 2
}
